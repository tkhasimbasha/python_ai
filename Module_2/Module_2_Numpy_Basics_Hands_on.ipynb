{
  "cells": [
    {
      "cell_type": "markdown",
      "metadata": {
        "id": "view-in-github",
        "colab_type": "text"
      },
      "source": [
        "<a href=\"https://colab.research.google.com/github/tkhasimbasha/python_ai/blob/master/Module_2/Module_2_Numpy_Basics_Hands_on.ipynb\" target=\"_parent\"><img src=\"https://colab.research.google.com/assets/colab-badge.svg\" alt=\"Open In Colab\"/></a>"
      ]
    },
    {
      "cell_type": "markdown",
      "id": "2777d9e9-603d-420b-ba4f-c5bb1d133cc9",
      "metadata": {
        "id": "2777d9e9-603d-420b-ba4f-c5bb1d133cc9"
      },
      "source": [
        "# NumPy Basics Hands-on\n",
        "\n",
        "This notebook illustrates various NumPy functions, showing how to create and manipulate arrays, perform vectorized arithmetic, utilize statistical methods, handle broadcasting, and make use of NumPy’s linear algebra and random modules."
      ]
    },
    {
      "cell_type": "code",
      "execution_count": null,
      "id": "d09bcdcf-66ca-4f87-b108-57d09f8b5e3b",
      "metadata": {
        "id": "d09bcdcf-66ca-4f87-b108-57d09f8b5e3b",
        "outputId": "7f621797-042c-472a-e8c1-bda3a6fd2501"
      },
      "outputs": [
        {
          "name": "stdout",
          "output_type": "stream",
          "text": [
            "NumPy version: 1.26.4\n"
          ]
        }
      ],
      "source": [
        "# ---------------------------------------------------------------------\n",
        "# 1. IMPORTS AND BASIC SETUP\n",
        "# ---------------------------------------------------------------------\n",
        "import numpy as np\n",
        "\n",
        "# For reproducibility in examples that use random numbers\n",
        "rng = np.random.default_rng(seed=42)\n",
        "\n",
        "print(\"NumPy version:\", np.__version__)"
      ]
    },
    {
      "cell_type": "code",
      "execution_count": null,
      "id": "efba9501-257e-4e61-af25-7351cc5cd206",
      "metadata": {
        "id": "efba9501-257e-4e61-af25-7351cc5cd206"
      },
      "outputs": [],
      "source": []
    },
    {
      "cell_type": "markdown",
      "id": "1e43c7a7-e1db-4c37-a617-94ac924bb184",
      "metadata": {
        "id": "1e43c7a7-e1db-4c37-a617-94ac924bb184"
      },
      "source": [
        "## 2. Array Creation\n",
        "\n",
        "NumPy provides multiple ways to create arrays:\n",
        "- **np.array()**: Convert a Python list or tuple to a NumPy array\n",
        "- **np.zeros()**: Create an array of all zeros\n",
        "- **np.ones()**: Create an array of all ones\n",
        "- **np.arange()**: Create an array with a range of integers\n",
        "- **np.linspace()**: Create an array of evenly spaced numbers"
      ]
    },
    {
      "cell_type": "code",
      "execution_count": null,
      "id": "a9075b47-7cb3-4070-9cf2-174ea0c79fa9",
      "metadata": {
        "id": "a9075b47-7cb3-4070-9cf2-174ea0c79fa9",
        "outputId": "16553ffe-be9c-4345-fedb-4b7e770cc153"
      },
      "outputs": [
        {
          "name": "stdout",
          "output_type": "stream",
          "text": [
            "Array from list: [1 2 3 4 5]\n"
          ]
        }
      ],
      "source": [
        "# ---------------------------------------------------------------------\n",
        "# 2. ARRAY CREATION EXAMPLES\n",
        "# ---------------------------------------------------------------------\n",
        "\n",
        "# 2.1 Creating an array from a Python list\n",
        "list_data = [1, 2, 3, 4, 5]\n",
        "arr_from_list = np.array(list_data)\n",
        "print(\"Array from list:\", arr_from_list)"
      ]
    },
    {
      "cell_type": "code",
      "execution_count": null,
      "id": "3f086d09-c51d-4199-9828-89e4f1bfa327",
      "metadata": {
        "id": "3f086d09-c51d-4199-9828-89e4f1bfa327",
        "outputId": "3e1fd0a7-996f-46e1-a8f8-2522d58cd5ad"
      },
      "outputs": [
        {
          "data": {
            "text/plain": [
              "numpy.ndarray"
            ]
          },
          "execution_count": 3,
          "metadata": {},
          "output_type": "execute_result"
        }
      ],
      "source": [
        "type(arr_from_list)"
      ]
    },
    {
      "cell_type": "code",
      "execution_count": null,
      "id": "f17956c0-85e3-42fb-a720-87b0027b4d5f",
      "metadata": {
        "id": "f17956c0-85e3-42fb-a720-87b0027b4d5f",
        "outputId": "5a0d93e6-a835-4218-ae0d-eed5a712dcfb"
      },
      "outputs": [
        {
          "name": "stdout",
          "output_type": "stream",
          "text": [
            "\n",
            "Array of zeros:\n",
            " [[0. 0. 0.]\n",
            " [0. 0. 0.]]\n"
          ]
        }
      ],
      "source": [
        "# 2.2 Creating an array of zeros\n",
        "arr_zeros = np.zeros((2, 3))  # 2x3 matrix of zeros\n",
        "print(\"\\nArray of zeros:\\n\", arr_zeros)"
      ]
    },
    {
      "cell_type": "code",
      "execution_count": null,
      "id": "b8642799-7912-42f1-9f59-cfbd3dc7c836",
      "metadata": {
        "id": "b8642799-7912-42f1-9f59-cfbd3dc7c836",
        "outputId": "fee8e71e-4a76-4d3d-84da-4b963d717768"
      },
      "outputs": [
        {
          "name": "stdout",
          "output_type": "stream",
          "text": [
            "\n",
            "Array of ones:\n",
            " [[1. 1. 1.]\n",
            " [1. 1. 1.]]\n"
          ]
        }
      ],
      "source": [
        "# 2.3 Creating an array of ones\n",
        "arr_ones = np.ones((2, 3))    # 2x3 matrix of ones\n",
        "print(\"\\nArray of ones:\\n\", arr_ones)"
      ]
    },
    {
      "cell_type": "code",
      "execution_count": null,
      "id": "6a294575-420d-48ef-af4a-270c4198f973",
      "metadata": {
        "id": "6a294575-420d-48ef-af4a-270c4198f973",
        "outputId": "56331fca-7ef7-4670-b682-0221b65f3557"
      },
      "outputs": [
        {
          "data": {
            "text/plain": [
              "(2, 3)"
            ]
          },
          "execution_count": 10,
          "metadata": {},
          "output_type": "execute_result"
        }
      ],
      "source": [
        "arr_ones.shape"
      ]
    },
    {
      "cell_type": "code",
      "execution_count": null,
      "id": "c87436ba-1b4f-4cc8-8e04-dddb793602df",
      "metadata": {
        "id": "c87436ba-1b4f-4cc8-8e04-dddb793602df",
        "outputId": "0b72eca1-a45a-458c-a6a9-26ce3cb45d65"
      },
      "outputs": [
        {
          "data": {
            "text/plain": [
              "2"
            ]
          },
          "execution_count": 11,
          "metadata": {},
          "output_type": "execute_result"
        }
      ],
      "source": [
        "arr_ones.ndim"
      ]
    },
    {
      "cell_type": "code",
      "execution_count": null,
      "id": "520bbeb0-2af1-402e-99b3-133a693a38a3",
      "metadata": {
        "id": "520bbeb0-2af1-402e-99b3-133a693a38a3"
      },
      "outputs": [],
      "source": []
    },
    {
      "cell_type": "code",
      "execution_count": null,
      "id": "1556d7b1-0653-49a6-8558-7af19671e7e9",
      "metadata": {
        "id": "1556d7b1-0653-49a6-8558-7af19671e7e9",
        "outputId": "53a7c091-30cc-4e82-dbba-f4a2fc4e5348"
      },
      "outputs": [
        {
          "name": "stdout",
          "output_type": "stream",
          "text": [
            "\n",
            "Array with arange (5 to <15 step 2): [ 5  7  9 11 13]\n"
          ]
        }
      ],
      "source": [
        "# 2.4 Creating an array with arange\n",
        "arr_arange = np.arange(5, 15, 2)  # start=5, stop=15, step=2\n",
        "print(\"\\nArray with arange (5 to <15 step 2):\", arr_arange)"
      ]
    },
    {
      "cell_type": "code",
      "execution_count": null,
      "id": "3695fa8b-bc8b-4fe0-a5c6-53e9f1a6d934",
      "metadata": {
        "id": "3695fa8b-bc8b-4fe0-a5c6-53e9f1a6d934",
        "outputId": "0627f85d-38f6-4d56-f08a-7aaeedcf340b"
      },
      "outputs": [
        {
          "name": "stdout",
          "output_type": "stream",
          "text": [
            "\n",
            "Array with linspace (0 to 1 in 5 steps): [0.   0.25 0.5  0.75 1.  ]\n"
          ]
        }
      ],
      "source": [
        "# 2.5 Creating an array with linspace\n",
        "arr_linspace = np.linspace(0, 1, 5)  # 5 points from 0 to 1 inclusive\n",
        "print(\"\\nArray with linspace (0 to 1 in 5 steps):\", arr_linspace)"
      ]
    },
    {
      "cell_type": "code",
      "execution_count": null,
      "id": "20220a47-96c3-4add-b2b1-8c3472bf28f8",
      "metadata": {
        "id": "20220a47-96c3-4add-b2b1-8c3472bf28f8"
      },
      "outputs": [],
      "source": []
    },
    {
      "cell_type": "markdown",
      "id": "dee1189a-879f-42ed-b1bd-5b5152b0b667",
      "metadata": {
        "id": "dee1189a-879f-42ed-b1bd-5b5152b0b667"
      },
      "source": [
        "## 3. Indexing and Slicing\n",
        "\n",
        "Indexing and slicing let you access and modify parts of a NumPy array.  \n",
        "- **1D arrays** work similarly to Python lists.  \n",
        "- **Multi-dimensional arrays** require specifying the indices of each dimension.\n",
        "\n",
        "Examples below cover basic slicing, stepping, advanced (fancy) indexing, and boolean indexing."
      ]
    },
    {
      "cell_type": "code",
      "execution_count": null,
      "id": "1d22c43e-7867-42ca-bab5-bd5675ca693b",
      "metadata": {
        "id": "1d22c43e-7867-42ca-bab5-bd5675ca693b",
        "outputId": "f92fe180-04c3-4fc8-d796-98ca230b8348"
      },
      "outputs": [
        {
          "name": "stdout",
          "output_type": "stream",
          "text": [
            "1D array: [10 20 30 40 50]\n",
            "Element at index 2: 30\n"
          ]
        }
      ],
      "source": [
        "# ---------------------------------------------------------------------\n",
        "# 3. INDEXING AND SLICING EXAMPLES\n",
        "# ---------------------------------------------------------------------\n",
        "\n",
        "# 3.1 BASIC INDEXING\n",
        "arr_1d = np.array([10, 20, 30, 40, 50])\n",
        "print(\"1D array:\", arr_1d)\n",
        "print(\"Element at index 2:\", arr_1d[2])  # 0-based indexing"
      ]
    },
    {
      "cell_type": "code",
      "execution_count": null,
      "id": "49b3e7eb-cd06-4bd8-a0a1-56f4c0de37d6",
      "metadata": {
        "id": "49b3e7eb-cd06-4bd8-a0a1-56f4c0de37d6",
        "outputId": "f076e57e-485d-4025-d507-9026b022e08d"
      },
      "outputs": [
        {
          "name": "stdout",
          "output_type": "stream",
          "text": [
            "\n",
            "Sliced 1D array (indices 1 to 3): [20 30 40]\n"
          ]
        }
      ],
      "source": [
        "# 3.2 SLICING\n",
        "# Syntax: arr[start : stop : step]\n",
        "# By default, start=0, stop=length of array, step=1\n",
        "\n",
        "slice_1d = arr_1d[1:4]  # elements at indices 1, 2, 3\n",
        "print(\"\\nSliced 1D array (indices 1 to 3):\", slice_1d)"
      ]
    },
    {
      "cell_type": "code",
      "execution_count": null,
      "id": "19af0321-f1ac-47a5-b0bc-a39c878b63e9",
      "metadata": {
        "id": "19af0321-f1ac-47a5-b0bc-a39c878b63e9",
        "outputId": "33f7b59a-99fa-45dc-e054-87aa545e4978"
      },
      "outputs": [
        {
          "name": "stdout",
          "output_type": "stream",
          "text": [
            "Slicing with step of 2: [10 30 50]\n"
          ]
        }
      ],
      "source": [
        "# 3.3 SLICING WITH STEPS\n",
        "slice_step = arr_1d[::2]  # every 2nd element\n",
        "print(\"Slicing with step of 2:\", slice_step)"
      ]
    },
    {
      "cell_type": "code",
      "execution_count": null,
      "id": "7e4f700c-ee20-44ed-9eac-4074b78223bb",
      "metadata": {
        "id": "7e4f700c-ee20-44ed-9eac-4074b78223bb",
        "outputId": "8d39a767-d680-4b84-c406-5be35d8cc0ce"
      },
      "outputs": [
        {
          "name": "stdout",
          "output_type": "stream",
          "text": [
            "\n",
            "2D array:\n",
            "\n"
          ]
        },
        {
          "data": {
            "text/plain": [
              "array([[1, 2, 3],\n",
              "       [4, 5, 6],\n",
              "       [7, 8, 9]])"
            ]
          },
          "execution_count": 18,
          "metadata": {},
          "output_type": "execute_result"
        }
      ],
      "source": [
        "# 3.4 MULTI-DIMENSIONAL SLICING\n",
        "arr_2d = np.array([[1, 2, 3],\n",
        "                   [4, 5, 6],\n",
        "                   [7, 8, 9]])\n",
        "print(\"\\n2D array:\\n\")\n",
        "arr_2d"
      ]
    },
    {
      "cell_type": "code",
      "execution_count": null,
      "id": "2fbd7d2f-3896-4828-b958-cc1342729be7",
      "metadata": {
        "id": "2fbd7d2f-3896-4828-b958-cc1342729be7",
        "outputId": "68465302-85aa-4d04-cfab-13fcc5ec1391"
      },
      "outputs": [
        {
          "name": "stdout",
          "output_type": "stream",
          "text": [
            "Element at [1, 2] (2D indexing): 6\n"
          ]
        }
      ],
      "source": [
        "# Access the element in row=1, col=2\n",
        "# (Remember, rows and cols are 0-indexed)\n",
        "print(\"Element at [1, 2] (2D indexing):\", arr_2d[1, 2])"
      ]
    },
    {
      "cell_type": "code",
      "execution_count": null,
      "id": "132028d5-4028-4ddb-b5e6-8ca0eef14750",
      "metadata": {
        "id": "132028d5-4028-4ddb-b5e6-8ca0eef14750",
        "outputId": "0dc52cc3-2c13-478a-a2ef-626bb3be3d7d"
      },
      "outputs": [
        {
          "name": "stdout",
          "output_type": "stream",
          "text": [
            "Slice rows 0:2, cols 1:3:\n",
            " [[2 3]\n",
            " [5 6]]\n"
          ]
        }
      ],
      "source": [
        "# Slice rows from 0 to 1 and columns from 1 to 2\n",
        "print(\"Slice rows 0:2, cols 1:3:\\n\", arr_2d[0:2, 1:3])"
      ]
    },
    {
      "cell_type": "code",
      "execution_count": null,
      "id": "d827617b-a400-40e1-b00a-2fee94a42929",
      "metadata": {
        "id": "d827617b-a400-40e1-b00a-2fee94a42929",
        "outputId": "a3291eaf-03ad-4112-ba05-397f5a3266b9"
      },
      "outputs": [
        {
          "name": "stdout",
          "output_type": "stream",
          "text": [
            "\n",
            "Fancy indexing (select rows [0, 2]):\n",
            " [[7 8 9]\n",
            " [1 2 3]]\n"
          ]
        }
      ],
      "source": [
        "# 3.5 FANCY (ADVANCED) INDEXING\n",
        "# Use lists or arrays of indices to grab specific elements\n",
        "indices = [2, 0]  # let's grab rows at indices 0 and 2\n",
        "arr_fancy = arr_2d[indices, :]\n",
        "print(\"\\nFancy indexing (select rows [0, 2]):\\n\", arr_fancy)"
      ]
    },
    {
      "cell_type": "code",
      "execution_count": null,
      "id": "31a996de-76e9-4a5e-b6c4-6f02ed63174c",
      "metadata": {
        "id": "31a996de-76e9-4a5e-b6c4-6f02ed63174c",
        "outputId": "42ca35f9-f731-4735-9246-9658e7e62685"
      },
      "outputs": [
        {
          "name": "stdout",
          "output_type": "stream",
          "text": [
            "\n",
            "Boolean mask for arr_2d > 4:\n",
            " [[False False False]\n",
            " [False  True  True]\n",
            " [ True  True  True]]\n",
            "Elements > 4: [5 6 7 8 9]\n"
          ]
        }
      ],
      "source": [
        "# 3.6 BOOLEAN INDEXING\n",
        "# Select elements satisfying a certain condition\n",
        "bool_mask = arr_2d > 4\n",
        "print(\"\\nBoolean mask for arr_2d > 4:\\n\", bool_mask)\n",
        "print(\"Elements > 4:\", arr_2d[bool_mask])"
      ]
    },
    {
      "cell_type": "code",
      "execution_count": null,
      "id": "c1e30c2d-2686-4edf-97d6-34b9f2e0d1e0",
      "metadata": {
        "id": "c1e30c2d-2686-4edf-97d6-34b9f2e0d1e0",
        "outputId": "22cdf064-9b48-470a-9ff3-ff666cf22ea2"
      },
      "outputs": [
        {
          "name": "stdout",
          "output_type": "stream",
          "text": [
            "\n",
            "Boolean mask for arr_2d > 2 and arr_2d < 8:\n",
            " [[False False  True]\n",
            " [ True  True  True]\n",
            " [ True False False]]\n",
            "Elements matching this condition: [3 4 5 6 7]\n"
          ]
        }
      ],
      "source": [
        "# We can combine boolean conditions using logical operators\n",
        "bool_mask_combined = (arr_2d > 2) & (arr_2d < 8)\n",
        "print(\"\\nBoolean mask for arr_2d > 2 and arr_2d < 8:\\n\", bool_mask_combined)\n",
        "print(\"Elements matching this condition:\", arr_2d[bool_mask_combined])"
      ]
    },
    {
      "cell_type": "code",
      "execution_count": null,
      "id": "edb4f2f5-6234-452b-a09d-54597515961c",
      "metadata": {
        "id": "edb4f2f5-6234-452b-a09d-54597515961c"
      },
      "outputs": [],
      "source": []
    },
    {
      "cell_type": "markdown",
      "id": "f4d7d7ff-9a7b-4a71-9176-e1859ee65a81",
      "metadata": {
        "id": "f4d7d7ff-9a7b-4a71-9176-e1859ee65a81"
      },
      "source": [
        "## 4. Shape Manipulation\n",
        "\n",
        "- **reshape()**: Returns a new view of the array with a different shape (the original array remains unchanged).\n",
        "- **ravel()**: Flattens the array into 1D without creating a copy if possible.\n",
        "- **transpose()**: Transposes the axes of the array."
      ]
    },
    {
      "cell_type": "code",
      "execution_count": null,
      "id": "55f3ff21-caeb-4bc7-94cc-50c7f8829f93",
      "metadata": {
        "id": "55f3ff21-caeb-4bc7-94cc-50c7f8829f93",
        "outputId": "878805da-e826-42a4-d096-d06e38c32b55"
      },
      "outputs": [
        {
          "data": {
            "text/plain": [
              "array([ 1,  2,  3,  4,  5,  6,  7,  8,  9, 10, 11, 12])"
            ]
          },
          "execution_count": 26,
          "metadata": {},
          "output_type": "execute_result"
        }
      ],
      "source": [
        "# ---------------------------------------------------------------------\n",
        "# 4. SHAPE MANIPULATION EXAMPLES\n",
        "# ---------------------------------------------------------------------\n",
        "\n",
        "# Create a 2D array for demonstrations\n",
        "matrix = np.arange(1, 13)\n",
        "matrix"
      ]
    },
    {
      "cell_type": "code",
      "execution_count": null,
      "id": "04272d35-8dba-4959-bc15-b2351cadfe77",
      "metadata": {
        "id": "04272d35-8dba-4959-bc15-b2351cadfe77",
        "outputId": "931f43ac-cc6e-4e4e-e502-509b85cd932e"
      },
      "outputs": [
        {
          "name": "stdout",
          "output_type": "stream",
          "text": [
            "Original matrix:\n",
            "\n"
          ]
        },
        {
          "data": {
            "text/plain": [
              "array([[ 1,  2,  3,  4],\n",
              "       [ 5,  6,  7,  8],\n",
              "       [ 9, 10, 11, 12]])"
            ]
          },
          "execution_count": 28,
          "metadata": {},
          "output_type": "execute_result"
        }
      ],
      "source": [
        "matrix = matrix.reshape(3, 4)  # 3 rows, 4 columns\n",
        "print(\"Original matrix:\\n\")\n",
        "matrix"
      ]
    },
    {
      "cell_type": "code",
      "execution_count": null,
      "id": "c3724415-0a21-4fdb-be57-68e252daf540",
      "metadata": {
        "id": "c3724415-0a21-4fdb-be57-68e252daf540",
        "outputId": "1709db5d-3755-45bc-db12-c1c17af680be"
      },
      "outputs": [
        {
          "name": "stdout",
          "output_type": "stream",
          "text": [
            "\n",
            "Reshaped to 2x6:\n",
            " [[ 1  2  3  4  5  6]\n",
            " [ 7  8  9 10 11 12]]\n"
          ]
        }
      ],
      "source": [
        "# 4.1 Reshape\n",
        "reshaped = matrix.reshape(2, 6)\n",
        "print(\"\\nReshaped to 2x6:\\n\", reshaped)"
      ]
    },
    {
      "cell_type": "code",
      "execution_count": null,
      "id": "6c0980c6-435d-49f4-bb2d-db921e899172",
      "metadata": {
        "id": "6c0980c6-435d-49f4-bb2d-db921e899172",
        "outputId": "dd0a99a7-4c56-4a63-a59c-a3471944db83"
      },
      "outputs": [
        {
          "name": "stdout",
          "output_type": "stream",
          "text": [
            "\n",
            "Raveled (flattened): [ 1  2  3  4  5  6  7  8  9 10 11 12]\n"
          ]
        }
      ],
      "source": [
        "# 4.2 Ravel\n",
        "raveled = matrix.ravel()  # Flatten to 1D\n",
        "print(\"\\nRaveled (flattened):\", raveled)"
      ]
    },
    {
      "cell_type": "code",
      "execution_count": null,
      "id": "39ee971d-a75f-4355-b061-1e9586767d64",
      "metadata": {
        "id": "39ee971d-a75f-4355-b061-1e9586767d64",
        "outputId": "706ddfca-20d0-4b07-a043-aef6f30a959d"
      },
      "outputs": [
        {
          "data": {
            "text/plain": [
              "array([[ 1,  2,  3,  4],\n",
              "       [ 5,  6,  7,  8],\n",
              "       [ 9, 10, 11, 12]])"
            ]
          },
          "execution_count": 31,
          "metadata": {},
          "output_type": "execute_result"
        }
      ],
      "source": [
        "matrix"
      ]
    },
    {
      "cell_type": "code",
      "execution_count": null,
      "id": "d9621b96-b8a5-46b0-b9c0-f9d2eb375d30",
      "metadata": {
        "id": "d9621b96-b8a5-46b0-b9c0-f9d2eb375d30",
        "outputId": "bc61ecf6-466c-4a76-a4d4-d2886ce9f7a3"
      },
      "outputs": [
        {
          "name": "stdout",
          "output_type": "stream",
          "text": [
            "\n",
            "Transposed matrix:\n",
            "\n"
          ]
        },
        {
          "data": {
            "text/plain": [
              "array([[ 1,  5,  9],\n",
              "       [ 2,  6, 10],\n",
              "       [ 3,  7, 11],\n",
              "       [ 4,  8, 12]])"
            ]
          },
          "execution_count": 32,
          "metadata": {},
          "output_type": "execute_result"
        }
      ],
      "source": [
        "# 4.3 Transpose\n",
        "transposed = matrix.transpose()  # or matrix.T\n",
        "print(\"\\nTransposed matrix:\\n\")\n",
        "transposed"
      ]
    },
    {
      "cell_type": "code",
      "execution_count": null,
      "id": "4fc79a1a-331b-45e3-a5ac-4a9809a603ed",
      "metadata": {
        "id": "4fc79a1a-331b-45e3-a5ac-4a9809a603ed"
      },
      "outputs": [],
      "source": []
    },
    {
      "cell_type": "markdown",
      "id": "37f49904-b19c-411e-93dd-f5cc22124f9f",
      "metadata": {
        "id": "37f49904-b19c-411e-93dd-f5cc22124f9f"
      },
      "source": [
        "## 5. Data Types\n",
        "\n",
        "Every NumPy array has a single data type (dtype). You can:\n",
        "- Check the data type via **array.dtype**\n",
        "- Convert data types using **array.astype(...)**"
      ]
    },
    {
      "cell_type": "code",
      "execution_count": null,
      "id": "7c02c146-301b-4815-b69d-a08f9d9ad5ee",
      "metadata": {
        "id": "7c02c146-301b-4815-b69d-a08f9d9ad5ee",
        "outputId": "5e3e26ec-90da-4ce1-e3b5-ccaa29833aa6"
      },
      "outputs": [
        {
          "name": "stdout",
          "output_type": "stream",
          "text": [
            "Array: [1.2  3.14 5.6 ]\n",
            "Data type of arr_float: float64\n"
          ]
        }
      ],
      "source": [
        "# ---------------------------------------------------------------------\n",
        "# 5. DATA TYPE EXAMPLES\n",
        "# ---------------------------------------------------------------------\n",
        "\n",
        "arr_float = np.array([1.2, 3.14, 5.6])\n",
        "print(\"Array:\", arr_float)\n",
        "print(\"Data type of arr_float:\", arr_float.dtype)"
      ]
    },
    {
      "cell_type": "code",
      "execution_count": null,
      "id": "11326ff4-bfe6-4070-8c09-04c7d6606a04",
      "metadata": {
        "id": "11326ff4-bfe6-4070-8c09-04c7d6606a04",
        "outputId": "b7db01d1-689a-478b-808e-7fbd6f688a12"
      },
      "outputs": [
        {
          "name": "stdout",
          "output_type": "stream",
          "text": [
            "\n",
            "Converted to integer type: [1 3 5]\n",
            "Data type of arr_int: int64\n"
          ]
        }
      ],
      "source": [
        "arr_int = arr_float.astype(np.int64)\n",
        "print(\"\\nConverted to integer type:\", arr_int)\n",
        "print(\"Data type of arr_int:\", arr_int.dtype)"
      ]
    },
    {
      "cell_type": "code",
      "execution_count": null,
      "id": "b226f0cf-1461-4ad8-9d50-6de1b847ebfc",
      "metadata": {
        "id": "b226f0cf-1461-4ad8-9d50-6de1b847ebfc"
      },
      "outputs": [],
      "source": []
    },
    {
      "cell_type": "markdown",
      "id": "2b89a4ce-0c69-4006-a928-042b4b160ee3",
      "metadata": {
        "id": "2b89a4ce-0c69-4006-a928-042b4b160ee3"
      },
      "source": [
        "## 6. Arithmetic Universal Functions\n",
        "\n",
        "NumPy provides a wide range of “ufuncs” (universal functions) that apply element-wise:\n",
        "- **np.add**, **np.subtract**, **np.multiply**, **np.divide**\n",
        "- **np.log**, **np.log2**, **np.log10**\n",
        "- **np.power**\n",
        "- **np.exp**"
      ]
    },
    {
      "cell_type": "code",
      "execution_count": null,
      "id": "611dd714-c13c-488a-a3fd-35d0d3eaf055",
      "metadata": {
        "id": "611dd714-c13c-488a-a3fd-35d0d3eaf055"
      },
      "outputs": [],
      "source": [
        "# ---------------------------------------------------------------------\n",
        "# 6. ARITHMETIC UFUNCS\n",
        "# ---------------------------------------------------------------------\n",
        "\n",
        "x = np.array([1, 2, 3, 4])\n",
        "y = np.array([10, 20, 30, 40])"
      ]
    },
    {
      "cell_type": "code",
      "execution_count": null,
      "id": "908b1a5a-e17c-459c-aee4-d98c04eb66b0",
      "metadata": {
        "id": "908b1a5a-e17c-459c-aee4-d98c04eb66b0",
        "outputId": "995cba50-2e15-441d-9421-ed0bce89f290"
      },
      "outputs": [
        {
          "name": "stdout",
          "output_type": "stream",
          "text": [
            "Add: [11 22 33 44]\n",
            "Subtract: [ -9 -18 -27 -36]\n",
            "Multiply: [ 10  40  90 160]\n",
            "Divide: [0.1 0.1 0.1 0.1]\n"
          ]
        }
      ],
      "source": [
        "# Basic arithmetic\n",
        "print(\"Add:\", np.add(x, y))\n",
        "print(\"Subtract:\", np.subtract(x, y))\n",
        "print(\"Multiply:\", np.multiply(x, y))\n",
        "print(\"Divide:\", np.divide(x, y))"
      ]
    },
    {
      "cell_type": "code",
      "execution_count": null,
      "id": "94253f60-0eb8-4364-a1d6-55fc7270b6f9",
      "metadata": {
        "id": "94253f60-0eb8-4364-a1d6-55fc7270b6f9",
        "outputId": "323ddf8e-241c-41c6-f594-a0679f9c8071"
      },
      "outputs": [
        {
          "data": {
            "text/plain": [
              "array([0.1, 0.1, 0.1, 0.1])"
            ]
          },
          "execution_count": 40,
          "metadata": {},
          "output_type": "execute_result"
        }
      ],
      "source": [
        "x/y"
      ]
    },
    {
      "cell_type": "code",
      "execution_count": null,
      "id": "94f28bd0-faba-47fb-925a-6b9f66b34247",
      "metadata": {
        "id": "94f28bd0-faba-47fb-925a-6b9f66b34247",
        "outputId": "73b13c78-feb3-4da9-e69a-c96803b98c95"
      },
      "outputs": [
        {
          "data": {
            "text/plain": [
              "array([  1.        ,   2.71828183, 100.        ])"
            ]
          },
          "execution_count": 41,
          "metadata": {},
          "output_type": "execute_result"
        }
      ],
      "source": [
        "# Logarithms (element-wise)\n",
        "arr_for_log = np.array([1, np.e, 100])\n",
        "arr_for_log"
      ]
    },
    {
      "cell_type": "code",
      "execution_count": null,
      "id": "6d5c4ecc-cba0-47f3-8ae8-103137788854",
      "metadata": {
        "id": "6d5c4ecc-cba0-47f3-8ae8-103137788854",
        "outputId": "e1b70e3a-f5a1-401d-bb1d-dfbb03699224"
      },
      "outputs": [
        {
          "data": {
            "text/plain": [
              "array([0.        , 1.        , 4.60517019])"
            ]
          },
          "execution_count": 42,
          "metadata": {},
          "output_type": "execute_result"
        }
      ],
      "source": [
        "np.log(arr_for_log)"
      ]
    },
    {
      "cell_type": "code",
      "execution_count": null,
      "id": "3dc689f9-0951-44be-999b-70d228e51f56",
      "metadata": {
        "id": "3dc689f9-0951-44be-999b-70d228e51f56",
        "outputId": "a7440def-2d31-4ef6-b57b-214a8524eed0"
      },
      "outputs": [
        {
          "data": {
            "text/plain": [
              "array([0.        , 1.44269504, 6.64385619])"
            ]
          },
          "execution_count": 43,
          "metadata": {},
          "output_type": "execute_result"
        }
      ],
      "source": [
        "np.log2(arr_for_log)"
      ]
    },
    {
      "cell_type": "code",
      "execution_count": null,
      "id": "7ce9f15d-ae9d-458b-a2c5-3e337affd781",
      "metadata": {
        "id": "7ce9f15d-ae9d-458b-a2c5-3e337affd781",
        "outputId": "db66f84f-a1bc-419e-fdc7-4c81741fab08"
      },
      "outputs": [
        {
          "data": {
            "text/plain": [
              "array([0.        , 0.43429448, 2.        ])"
            ]
          },
          "execution_count": 44,
          "metadata": {},
          "output_type": "execute_result"
        }
      ],
      "source": [
        "np.log10(arr_for_log)"
      ]
    },
    {
      "cell_type": "code",
      "execution_count": null,
      "id": "cc2e4534-927b-4660-9e75-23dee4424103",
      "metadata": {
        "id": "cc2e4534-927b-4660-9e75-23dee4424103",
        "outputId": "ee7bee22-90ca-4f9d-a247-6398ada19c77"
      },
      "outputs": [
        {
          "data": {
            "text/plain": [
              "(2.718281828459045, 2.718281828459045)"
            ]
          },
          "execution_count": 45,
          "metadata": {},
          "output_type": "execute_result"
        }
      ],
      "source": [
        "np.e, np.exp(1)"
      ]
    },
    {
      "cell_type": "code",
      "execution_count": null,
      "id": "af638cc1-8ccd-4876-8e28-45c80da7540b",
      "metadata": {
        "id": "af638cc1-8ccd-4876-8e28-45c80da7540b",
        "outputId": "e1502f48-d84c-4348-e2e0-f10f4a2eefcb"
      },
      "outputs": [
        {
          "name": "stdout",
          "output_type": "stream",
          "text": [
            "\n",
            "Original numbers: [2 3 4]\n",
            "Squared (np.power): [ 4  9 16]\n",
            "Exponent (np.exp): [ 7.3890561  20.08553692 54.59815003]\n"
          ]
        }
      ],
      "source": [
        "# Exponent and Power\n",
        "arr_power = np.array([2, 3, 4])\n",
        "print(\"\\nOriginal numbers:\", arr_power)\n",
        "print(\"Squared (np.power):\", np.power(arr_power, 2))\n",
        "print(\"Exponent (np.exp):\", np.exp(arr_power))"
      ]
    },
    {
      "cell_type": "code",
      "execution_count": null,
      "id": "0e917188-6d98-4de3-909d-cb4af9713d2c",
      "metadata": {
        "id": "0e917188-6d98-4de3-909d-cb4af9713d2c"
      },
      "outputs": [],
      "source": []
    },
    {
      "cell_type": "markdown",
      "id": "5de0537b-4092-4ce8-aff8-370963685322",
      "metadata": {
        "id": "5de0537b-4092-4ce8-aff8-370963685322"
      },
      "source": [
        "## 7. Trigonometric & Hyperbolic Functions\n",
        "\n",
        "- **np.sin**, **np.cos**, **np.tan**\n",
        "- **np.arcsin**, **np.arccos**, **np.arctan**\n",
        "- **np.sinh**, **np.cosh**, **np.tanh**\n",
        "- **np.arcsinh**, **np.arccosh**, **np.arctanh**"
      ]
    },
    {
      "cell_type": "code",
      "execution_count": null,
      "id": "caa5738d-31d9-4540-93ad-795feabc24fe",
      "metadata": {
        "id": "caa5738d-31d9-4540-93ad-795feabc24fe",
        "outputId": "19746511-6e0e-4287-8e5e-9be0be34475e"
      },
      "outputs": [
        {
          "name": "stdout",
          "output_type": "stream",
          "text": [
            "Sin: [0.0000000e+00 1.0000000e+00 1.2246468e-16]\n",
            "Cos: [ 1.000000e+00  6.123234e-17 -1.000000e+00]\n",
            "Tan: [ 0.00000000e+00  1.63312394e+16 -1.22464680e-16]\n"
          ]
        }
      ],
      "source": [
        "# ---------------------------------------------------------------------\n",
        "# 7. TRIGONOMETRIC & HYPERBOLIC UFUNCS\n",
        "# ---------------------------------------------------------------------\n",
        "\n",
        "angles = np.array([0, np.pi/2, np.pi])\n",
        "\n",
        "print(\"Sin:\", np.sin(angles))\n",
        "print(\"Cos:\", np.cos(angles))\n",
        "print(\"Tan:\", np.tan(angles))"
      ]
    },
    {
      "cell_type": "code",
      "execution_count": null,
      "id": "1e53274a-7be3-45e8-9fa2-df01d235f241",
      "metadata": {
        "id": "1e53274a-7be3-45e8-9fa2-df01d235f241",
        "outputId": "d4775ad6-5d0e-497d-fc10-a44ce0900b5b"
      },
      "outputs": [
        {
          "name": "stdout",
          "output_type": "stream",
          "text": [
            "\n",
            "Sinh: [-1.17520119  0.          1.17520119]\n",
            "Cosh: [1.54308063 1.         1.54308063]\n",
            "Tanh: [-0.76159416  0.          0.76159416]\n"
          ]
        }
      ],
      "source": [
        "# Hyperbolic\n",
        "values = np.array([-1, 0, 1])\n",
        "print(\"\\nSinh:\", np.sinh(values))\n",
        "print(\"Cosh:\", np.cosh(values))\n",
        "print(\"Tanh:\", np.tanh(values))"
      ]
    },
    {
      "cell_type": "code",
      "execution_count": null,
      "id": "28b4430e-02ff-4b97-900f-33be11647fea",
      "metadata": {
        "id": "28b4430e-02ff-4b97-900f-33be11647fea"
      },
      "outputs": [],
      "source": []
    },
    {
      "cell_type": "markdown",
      "id": "ef8ad803-77ce-41a6-aa6d-d156da7ba32b",
      "metadata": {
        "id": "ef8ad803-77ce-41a6-aa6d-d156da7ba32b"
      },
      "source": [
        "## 8. Rounding & Other Element-wise Numeric UFuncs\n",
        "\n",
        "- **np.abs(x)**: Absolute value\n",
        "- **np.sign(x)**: Sign of the number (−1, 0, or 1)\n",
        "- **np.round(x)**, **np.floor(x)**, **np.ceil(x)**, **np.trunc(x)**: Rounding operations"
      ]
    },
    {
      "cell_type": "code",
      "execution_count": null,
      "id": "94630da2-f8fc-45c5-948d-bdd0b1904cc8",
      "metadata": {
        "id": "94630da2-f8fc-45c5-948d-bdd0b1904cc8",
        "outputId": "c777670d-7ba5-4d01-acfb-14cafef4bb88"
      },
      "outputs": [
        {
          "name": "stdout",
          "output_type": "stream",
          "text": [
            "Absolute: [1.75 0.22 0.58 1.91 2.57]\n",
            "Sign: [-1. -1.  1.  1.  1.]\n"
          ]
        }
      ],
      "source": [
        "# ---------------------------------------------------------------------\n",
        "# 8. ROUNDING & OTHER ELEMENT-WISE UFUNCS\n",
        "# ---------------------------------------------------------------------\n",
        "\n",
        "data_values = np.array([-1.75, -0.22, 0.58, 1.91, 2.57])\n",
        "\n",
        "print(\"Absolute:\", np.abs(data_values))\n",
        "print(\"Sign:\", np.sign(data_values))"
      ]
    },
    {
      "cell_type": "code",
      "execution_count": null,
      "id": "2ddda9a2-7bbd-4be0-b2d0-fee46c0dc62a",
      "metadata": {
        "id": "2ddda9a2-7bbd-4be0-b2d0-fee46c0dc62a",
        "outputId": "4d1ba627-6e8c-4019-9fb1-a8e9a66fb5ad"
      },
      "outputs": [
        {
          "name": "stdout",
          "output_type": "stream",
          "text": [
            "\n",
            "Round: [-2. -0.  1.  2.  3.]\n",
            "Floor: [-2. -1.  0.  1.  2.]\n",
            "Ceil: [-1. -0.  1.  2.  3.]\n",
            "Trunc: [-1. -0.  0.  1.  2.]\n"
          ]
        }
      ],
      "source": [
        "print(\"\\nRound:\", np.round(data_values))\n",
        "print(\"Floor:\", np.floor(data_values))\n",
        "print(\"Ceil:\", np.ceil(data_values))\n",
        "print(\"Trunc:\", np.trunc(data_values))"
      ]
    },
    {
      "cell_type": "code",
      "execution_count": null,
      "id": "b262ca92-68f3-4d5b-aacb-67daebcca7f0",
      "metadata": {
        "id": "b262ca92-68f3-4d5b-aacb-67daebcca7f0"
      },
      "outputs": [],
      "source": []
    },
    {
      "cell_type": "markdown",
      "id": "249a6429-0317-4122-a289-f684c1458248",
      "metadata": {
        "id": "249a6429-0317-4122-a289-f684c1458248"
      },
      "source": [
        "## 9. Comparison and Logical UFuncs\n",
        "\n",
        "- **np.less**, **np.less_equal**, **np.greater**, **np.greater_equal**, **np.equal**, **np.not_equal**\n",
        "- **np.logical_and**, **np.logical_or**, **np.logical_xor**"
      ]
    },
    {
      "cell_type": "code",
      "execution_count": null,
      "id": "dbcec413-d77d-4140-912d-a34da838ee0b",
      "metadata": {
        "id": "dbcec413-d77d-4140-912d-a34da838ee0b",
        "outputId": "a9f2d344-a57d-4a5d-b38e-eb1d77d552b3"
      },
      "outputs": [
        {
          "name": "stdout",
          "output_type": "stream",
          "text": [
            "np.less(a, b): [ True False False False]\n",
            "np.greater_equal(a, b): [False  True  True  True]\n",
            "np.equal(a, b): [False  True False False]\n",
            "np.not_equal(a, b): [ True False  True  True]\n"
          ]
        }
      ],
      "source": [
        "# ---------------------------------------------------------------------\n",
        "# 9. COMPARISON & LOGICAL UFUNCS\n",
        "# ---------------------------------------------------------------------\n",
        "\n",
        "a = np.array([1, 2, 3, 4])\n",
        "b = np.array([2, 2, 2, 2])\n",
        "\n",
        "print(\"np.less(a, b):\", np.less(a, b))\n",
        "print(\"np.greater_equal(a, b):\", np.greater_equal(a, b))\n",
        "print(\"np.equal(a, b):\", np.equal(a, b))\n",
        "print(\"np.not_equal(a, b):\", np.not_equal(a, b))"
      ]
    },
    {
      "cell_type": "code",
      "execution_count": null,
      "id": "abcd8282-727e-4456-8772-7616f4271f9a",
      "metadata": {
        "id": "abcd8282-727e-4456-8772-7616f4271f9a",
        "outputId": "0d863f35-bce3-44ca-d09c-73a15ce4ae64"
      },
      "outputs": [
        {
          "data": {
            "text/plain": [
              "array([False,  True,  True,  True])"
            ]
          },
          "execution_count": 55,
          "metadata": {},
          "output_type": "execute_result"
        }
      ],
      "source": [
        "a >= b"
      ]
    },
    {
      "cell_type": "code",
      "execution_count": null,
      "id": "073402c4-00fa-40f0-8961-2659b73b7aab",
      "metadata": {
        "id": "073402c4-00fa-40f0-8961-2659b73b7aab",
        "outputId": "0a25104c-846c-410e-f00f-25d3b6fcab47"
      },
      "outputs": [
        {
          "name": "stdout",
          "output_type": "stream",
          "text": [
            "\n",
            "cond1 (a > 1): [False  True  True  True]\n",
            "cond2 (a < 4): [ True  True  True False]\n",
            "logical_and(cond1, cond2): [False  True  True False]\n"
          ]
        }
      ],
      "source": [
        "# Logical operations\n",
        "cond1 = a > 1\n",
        "cond2 = a < 4\n",
        "\n",
        "print(\"\\ncond1 (a > 1):\", cond1)\n",
        "print(\"cond2 (a < 4):\", cond2)\n",
        "print(\"logical_and(cond1, cond2):\", np.logical_and(cond1, cond2))"
      ]
    },
    {
      "cell_type": "code",
      "execution_count": null,
      "id": "717a2a96-3d72-4196-b868-eea735e323a1",
      "metadata": {
        "id": "717a2a96-3d72-4196-b868-eea735e323a1"
      },
      "outputs": [],
      "source": []
    },
    {
      "cell_type": "markdown",
      "id": "087944f8-4ac4-4636-8859-fa58bd9f7b65",
      "metadata": {
        "id": "087944f8-4ac4-4636-8859-fa58bd9f7b65"
      },
      "source": [
        "## 10. Statistical & Aggregation Functions\n",
        "\n",
        "- **np.sum**, **np.mean**, **np.std**, **np.var**\n",
        "- **np.min**, **np.max**, **np.argmin**, **np.argmax**\n",
        "- **np.median**, **np.quantile**\n",
        "\n",
        "You can also specify an `axis` to perform these operations row-wise or column-wise on multi-dimensional arrays."
      ]
    },
    {
      "cell_type": "code",
      "execution_count": null,
      "id": "a7a58113-72e5-436a-9b63-21105be03ea1",
      "metadata": {
        "id": "a7a58113-72e5-436a-9b63-21105be03ea1",
        "outputId": "b1329c86-2466-46ab-a550-8ef8db327de9"
      },
      "outputs": [
        {
          "name": "stdout",
          "output_type": "stream",
          "text": [
            "Array:\n",
            " [[1 2 3]\n",
            " [4 5 6]\n",
            " [7 8 9]]\n"
          ]
        }
      ],
      "source": [
        "# ---------------------------------------------------------------------\n",
        "# 10. STATISTICAL & AGGREGATION FUNCTIONS\n",
        "# ---------------------------------------------------------------------\n",
        "\n",
        "stats_arr = np.array([[1, 2, 3],\n",
        "                      [4, 5, 6],\n",
        "                      [7, 8, 9]])\n",
        "\n",
        "print(\"Array:\\n\", stats_arr)"
      ]
    },
    {
      "cell_type": "code",
      "execution_count": null,
      "id": "535624af-9ced-4950-83ed-a199cc706011",
      "metadata": {
        "id": "535624af-9ced-4950-83ed-a199cc706011",
        "outputId": "9fd34c0b-cdfe-461f-83a6-e00c3359e42c"
      },
      "outputs": [
        {
          "name": "stdout",
          "output_type": "stream",
          "text": [
            "\n",
            "Sum of all elements: 45\n",
            "Mean: 5.0\n",
            "Standard Deviation: 2.581988897471611\n",
            "Variance: 6.666666666666667\n"
          ]
        }
      ],
      "source": [
        "print(\"\\nSum of all elements:\", np.sum(stats_arr))\n",
        "print(\"Mean:\", np.mean(stats_arr))\n",
        "print(\"Standard Deviation:\", np.std(stats_arr))\n",
        "print(\"Variance:\", np.var(stats_arr))"
      ]
    },
    {
      "cell_type": "code",
      "execution_count": null,
      "id": "95ee54f4-3f2a-49ec-835e-7e6ec694aff2",
      "metadata": {
        "id": "95ee54f4-3f2a-49ec-835e-7e6ec694aff2",
        "outputId": "339361a9-6aad-4a87-e731-7a0673723212"
      },
      "outputs": [
        {
          "name": "stdout",
          "output_type": "stream",
          "text": [
            "\n",
            "Min: 1\n",
            "Max: 9\n",
            "Argmin (index of min): 0\n",
            "Argmax (index of max): 8\n"
          ]
        }
      ],
      "source": [
        "print(\"\\nMin:\", np.min(stats_arr))\n",
        "print(\"Max:\", np.max(stats_arr))\n",
        "print(\"Argmin (index of min):\", np.argmin(stats_arr))\n",
        "print(\"Argmax (index of max):\", np.argmax(stats_arr))"
      ]
    },
    {
      "cell_type": "code",
      "execution_count": null,
      "id": "a77f1653-20a7-40f5-8e16-a0851f60c882",
      "metadata": {
        "id": "a77f1653-20a7-40f5-8e16-a0851f60c882",
        "outputId": "de87f492-b6cb-44e1-9cf0-d010fafc765a"
      },
      "outputs": [
        {
          "name": "stdout",
          "output_type": "stream",
          "text": [
            "\n",
            "Median: 5.0\n",
            "Quantile (0.25): 3.0\n"
          ]
        }
      ],
      "source": [
        "print(\"\\nMedian:\", np.median(stats_arr))\n",
        "print(\"Quantile (0.25):\", np.quantile(stats_arr, 0.25))"
      ]
    },
    {
      "cell_type": "code",
      "execution_count": null,
      "id": "4cb95643-f6bd-43f1-9987-73fd23a9b98e",
      "metadata": {
        "id": "4cb95643-f6bd-43f1-9987-73fd23a9b98e",
        "outputId": "4bf95347-2ade-4813-f3e0-4e67a9825e00"
      },
      "outputs": [
        {
          "name": "stdout",
          "output_type": "stream",
          "text": [
            "\n",
            "Sum along rows: [ 6 15 24]\n",
            "Sum along columns: [12 15 18]\n"
          ]
        }
      ],
      "source": [
        "# Using axis parameter: sum along rows (axis=1) or columns (axis=0)\n",
        "print(\"\\nSum along rows:\", np.sum(stats_arr, axis=1))\n",
        "print(\"Sum along columns:\", np.sum(stats_arr, axis=0))"
      ]
    },
    {
      "cell_type": "code",
      "execution_count": null,
      "id": "1ce471ea-226b-4ad1-993f-4e0cf87d699e",
      "metadata": {
        "id": "1ce471ea-226b-4ad1-993f-4e0cf87d699e"
      },
      "outputs": [],
      "source": []
    },
    {
      "cell_type": "markdown",
      "id": "6cefdf62-c4c1-41ae-9847-3abe44d92a7f",
      "metadata": {
        "id": "6cefdf62-c4c1-41ae-9847-3abe44d92a7f"
      },
      "source": [
        "## 11. Broadcasting\n",
        "\n",
        "Broadcasting enables arithmetic between arrays of different shapes,\n",
        "following certain rules. If the smaller array can be “stretched” to match\n",
        "the larger array, NumPy performs the operation element-wise."
      ]
    },
    {
      "cell_type": "code",
      "execution_count": null,
      "id": "66e0a7b9-81e8-4e8d-b826-f5eb9e743c09",
      "metadata": {
        "id": "66e0a7b9-81e8-4e8d-b826-f5eb9e743c09",
        "outputId": "986defea-79b6-44a6-8f32-0c5b808bf75a"
      },
      "outputs": [
        {
          "name": "stdout",
          "output_type": "stream",
          "text": [
            "Original array: [1 2 3]\n",
            "Add 10 to each element: [11 12 13]\n"
          ]
        }
      ],
      "source": [
        "# ---------------------------------------------------------------------\n",
        "# 11. BROADCASTING EXAMPLES\n",
        "# ---------------------------------------------------------------------\n",
        "\n",
        "# Example 1: Adding a scalar to an array\n",
        "arr_b = np.array([1, 2, 3])\n",
        "print(\"Original array:\", arr_b)\n",
        "print(\"Add 10 to each element:\", arr_b + 10)"
      ]
    },
    {
      "cell_type": "code",
      "execution_count": null,
      "id": "4538a50a-cb15-4bba-b2cb-6f9aee99e8ab",
      "metadata": {
        "id": "4538a50a-cb15-4bba-b2cb-6f9aee99e8ab",
        "outputId": "1bca7ac4-e6cf-42f2-b5a6-f2283cf1dd8c"
      },
      "outputs": [
        {
          "name": "stdout",
          "output_type": "stream",
          "text": [
            "\n",
            "Broadcasting shapes (3,1) and (3,) in an operation:\n",
            "mat_b1 + mat_b2:\n",
            " [[11 21 31]\n",
            " [12 22 32]\n",
            " [13 23 33]]\n"
          ]
        }
      ],
      "source": [
        "# Example 2: Broadcasting two arrays of compatible shapes\n",
        "mat_b1 = np.array([[1], [2], [3]])  # shape (3,1)\n",
        "mat_b2 = np.array([10, 20, 30])     # shape (3,)\n",
        "\n",
        "print(\"\\nBroadcasting shapes (3,1) and (3,) in an operation:\")\n",
        "print(\"mat_b1 + mat_b2:\\n\", mat_b1 + mat_b2)"
      ]
    },
    {
      "cell_type": "code",
      "execution_count": null,
      "id": "157cf790-8bd9-472b-b0f6-1a10f99730bf",
      "metadata": {
        "id": "157cf790-8bd9-472b-b0f6-1a10f99730bf"
      },
      "outputs": [],
      "source": []
    },
    {
      "cell_type": "markdown",
      "id": "8102dbbf-339b-4e0e-a24a-c665136cb683",
      "metadata": {
        "id": "8102dbbf-339b-4e0e-a24a-c665136cb683"
      },
      "source": [
        "## 12. Linear Algebra with `numpy.linalg`\n",
        "\n",
        "Key functionalities include:\n",
        "- **np.dot**, **np.matmul**, or the `@` operator for matrix multiplication\n",
        "- **np.linalg.solve(A, b)** to solve a linear system\n",
        "- **np.linalg.inv(A)** and **np.linalg.det(A)** for matrix inversion and determinant\n",
        "- **np.linalg.eig(A)** for eigenvalues and eigenvectors\n",
        "- **np.linalg.svd(A)** for singular value decomposition\n",
        "- **np.linalg.norm(A)** for matrix/vector norms"
      ]
    },
    {
      "cell_type": "code",
      "execution_count": null,
      "id": "8baca52c-5a8a-48d4-96bb-0688ad5d1e9b",
      "metadata": {
        "id": "8baca52c-5a8a-48d4-96bb-0688ad5d1e9b"
      },
      "outputs": [],
      "source": [
        "# ---------------------------------------------------------------------\n",
        "# 12. LINEAR ALGEBRA EXAMPLES\n",
        "# ---------------------------------------------------------------------\n",
        "\n",
        "# Create a 2D matrix\n",
        "A = np.array([[1, 2],\n",
        "              [3, 4]])\n",
        "\n",
        "B = np.array([[2, 0],\n",
        "              [1, 2]])"
      ]
    },
    {
      "cell_type": "code",
      "execution_count": null,
      "id": "8f12656b-74af-4bc4-9be3-fdec458a41fc",
      "metadata": {
        "id": "8f12656b-74af-4bc4-9be3-fdec458a41fc",
        "outputId": "f20753b7-7164-40da-aa2b-bbd7368f9f9f"
      },
      "outputs": [
        {
          "name": "stdout",
          "output_type": "stream",
          "text": [
            "A:\n",
            " [[1 2]\n",
            " [3 4]]\n",
            "B:\n",
            " [[2 0]\n",
            " [1 2]]\n",
            "\n",
            "Matrix multiplication (A @ B):\n",
            " [[ 4  4]\n",
            " [10  8]]\n"
          ]
        }
      ],
      "source": [
        "# 12.1 Matrix multiplication\n",
        "print(\"A:\\n\", A)\n",
        "print(\"B:\\n\", B)\n",
        "\n",
        "print(\"\\nMatrix multiplication (A @ B):\\n\", A @ B)\n",
        "# or np.matmul(A, B) or np.dot(A, B)"
      ]
    },
    {
      "cell_type": "code",
      "execution_count": null,
      "id": "3c2f36a7-9df4-4203-a3f5-82b2190c86af",
      "metadata": {
        "id": "3c2f36a7-9df4-4203-a3f5-82b2190c86af",
        "outputId": "14a489e9-7e45-466b-f80f-a7f48b03ef57"
      },
      "outputs": [
        {
          "data": {
            "text/plain": [
              "array([[ 2,  4],\n",
              "       [ 7, 10]])"
            ]
          },
          "execution_count": 66,
          "metadata": {},
          "output_type": "execute_result"
        }
      ],
      "source": [
        "B @ A"
      ]
    },
    {
      "cell_type": "code",
      "execution_count": null,
      "id": "22d4ac41-e6d7-44c4-8103-4f92bbf880f2",
      "metadata": {
        "id": "22d4ac41-e6d7-44c4-8103-4f92bbf880f2",
        "outputId": "cf5d19d3-f467-4d48-9255-b94cb34884aa"
      },
      "outputs": [
        {
          "data": {
            "text/plain": [
              "array([[ 4,  4],\n",
              "       [10,  8]])"
            ]
          },
          "execution_count": 67,
          "metadata": {},
          "output_type": "execute_result"
        }
      ],
      "source": [
        "A.dot(B)"
      ]
    },
    {
      "cell_type": "code",
      "execution_count": null,
      "id": "ea6a2b73-a1f7-4bd5-b8db-375617b97f2a",
      "metadata": {
        "id": "ea6a2b73-a1f7-4bd5-b8db-375617b97f2a",
        "outputId": "137aff44-45fe-4f06-d892-cacd9ec8a253"
      },
      "outputs": [
        {
          "data": {
            "text/plain": [
              "array([[ 4,  4],\n",
              "       [10,  8]])"
            ]
          },
          "execution_count": 68,
          "metadata": {},
          "output_type": "execute_result"
        }
      ],
      "source": [
        "np.matmul(A,B)"
      ]
    },
    {
      "cell_type": "code",
      "execution_count": null,
      "id": "36c9c886-24cc-43f5-b310-7b8b39668f84",
      "metadata": {
        "id": "36c9c886-24cc-43f5-b310-7b8b39668f84",
        "outputId": "4b675628-530c-49af-e94a-40dc254899f9"
      },
      "outputs": [
        {
          "name": "stdout",
          "output_type": "stream",
          "text": [
            "\n",
            "Inverse of A:\n",
            " [[-2.   1. ]\n",
            " [ 1.5 -0.5]]\n",
            "Determinant of A: -2.0000000000000004\n"
          ]
        }
      ],
      "source": [
        "# 12.2 Matrix inversion & determinant\n",
        "inv_A = np.linalg.inv(A)\n",
        "det_A = np.linalg.det(A)\n",
        "\n",
        "print(\"\\nInverse of A:\\n\", inv_A)\n",
        "print(\"Determinant of A:\", det_A)"
      ]
    },
    {
      "cell_type": "code",
      "execution_count": null,
      "id": "a3e0f7f7-fffb-484e-a789-c9ba65e2b229",
      "metadata": {
        "id": "a3e0f7f7-fffb-484e-a789-c9ba65e2b229"
      },
      "outputs": [],
      "source": []
    },
    {
      "cell_type": "markdown",
      "id": "8851cc7e-1432-4c86-a1e2-7a007306955f",
      "metadata": {
        "id": "8851cc7e-1432-4c86-a1e2-7a007306955f"
      },
      "source": [
        "## 13. NumPy Random Module\n",
        "\n",
        "- **rng.integers()**, **rng.random()**, **rng.normal()**: Random sampling from different distributions\n",
        "- **rng.shuffle()**, **rng.permutation()**: Shuffle or permute sequences\n",
        "- **np.random.default_rng(seed)**: For a reproducible random number generator"
      ]
    },
    {
      "cell_type": "code",
      "execution_count": null,
      "id": "db4518e8-2ca3-4663-9eee-0c504ce49084",
      "metadata": {
        "id": "db4518e8-2ca3-4663-9eee-0c504ce49084",
        "outputId": "f89f82e4-5ec9-4500-8168-5e40190371d0"
      },
      "outputs": [
        {
          "name": "stdout",
          "output_type": "stream",
          "text": [
            "Random integers between 0 and 10: [0 7 6 4 4]\n"
          ]
        }
      ],
      "source": [
        "# ---------------------------------------------------------------------\n",
        "# 13. RANDOM MODULE EXAMPLES\n",
        "# ---------------------------------------------------------------------\n",
        "\n",
        "# 13.1 Random Integers\n",
        "rand_ints = rng.integers(low=0, high=10, size=5)\n",
        "print(\"Random integers between 0 and 10:\", rand_ints)"
      ]
    },
    {
      "cell_type": "code",
      "execution_count": null,
      "id": "1ba0903c-f442-43da-bd53-9405fe727ec7",
      "metadata": {
        "id": "1ba0903c-f442-43da-bd53-9405fe727ec7",
        "outputId": "9b54d502-b284-4fdf-f3af-f1313a560c51"
      },
      "outputs": [
        {
          "name": "stdout",
          "output_type": "stream",
          "text": [
            "\n",
            "Random floats in [0,1): [0.13 0.45 0.37 0.93 0.64]\n"
          ]
        }
      ],
      "source": [
        "# 13.2 Random floats in [0,1)\n",
        "rand_floats = rng.random(5).round(2)\n",
        "print(\"\\nRandom floats in [0,1):\", rand_floats)"
      ]
    },
    {
      "cell_type": "code",
      "execution_count": null,
      "id": "85c3fa6a-13b8-4767-9411-97be35aad6f9",
      "metadata": {
        "id": "85c3fa6a-13b8-4767-9411-97be35aad6f9",
        "outputId": "b85b0c94-1cb9-474b-e9e7-e0a39d2cf355"
      },
      "outputs": [
        {
          "name": "stdout",
          "output_type": "stream",
          "text": [
            "\n",
            "Random normal distribution (mean=0, std=1): [ 1.12724121  0.46750934 -0.85929246  0.36875078 -0.9588826 ]\n"
          ]
        }
      ],
      "source": [
        "# 13.3 Normally distributed samples (mean=0, std=1)\n",
        "rand_norm = rng.normal(loc=0, scale=1, size=5)\n",
        "print(\"\\nRandom normal distribution (mean=0, std=1):\", rand_norm)"
      ]
    },
    {
      "cell_type": "code",
      "execution_count": null,
      "id": "3d9bcdbe-11f4-4041-85ac-d3d78a999d05",
      "metadata": {
        "id": "3d9bcdbe-11f4-4041-85ac-d3d78a999d05",
        "outputId": "f8babe43-b534-42de-d9e8-77d2b814b93a"
      },
      "outputs": [
        {
          "name": "stdout",
          "output_type": "stream",
          "text": [
            "\n",
            "Shuffled array: [2 4 1 5 3]\n"
          ]
        }
      ],
      "source": [
        "# 13.4 Shuffle and permutation\n",
        "arr_shuf = np.array([1, 2, 3, 4, 5])\n",
        "rng.shuffle(arr_shuf)  # Shuffle in-place\n",
        "print(\"\\nShuffled array:\", arr_shuf)"
      ]
    },
    {
      "cell_type": "code",
      "execution_count": null,
      "id": "1853d862-92e0-4546-a121-5a574df316b9",
      "metadata": {
        "id": "1853d862-92e0-4546-a121-5a574df316b9",
        "outputId": "04cd2d53-35ef-45c6-f1b9-5c36acd69b59"
      },
      "outputs": [
        {
          "name": "stdout",
          "output_type": "stream",
          "text": [
            "Permutation of [10,20,30,40,50]: [50 40 30 20 10]\n"
          ]
        }
      ],
      "source": [
        "arr_perm = np.array([10, 20, 30, 40, 50])\n",
        "print(\"Permutation of [10,20,30,40,50]:\", rng.permutation(arr_perm))"
      ]
    },
    {
      "cell_type": "markdown",
      "id": "9add0844-27e3-4c59-9941-2a413d142ce6",
      "metadata": {
        "id": "9add0844-27e3-4c59-9941-2a413d142ce6"
      },
      "source": [
        "# Conclusion\n",
        "\n",
        "We have demonstrated various NumPy capabilities including:\n",
        "- Array creation\n",
        "- Indexing and slicing\n",
        "- Shape manipulation\n",
        "- Arithmetic, logarithmic, and trigonometric functions\n",
        "- Rounding, comparison, and logical operations\n",
        "- Statistical and aggregation functions\n",
        "- Broadcasting rules\n",
        "- Linear algebra\n",
        "- Random sampling"
      ]
    },
    {
      "cell_type": "code",
      "execution_count": null,
      "id": "20243c2c-6fe5-4e1d-b24f-35261fbb3f1b",
      "metadata": {
        "id": "20243c2c-6fe5-4e1d-b24f-35261fbb3f1b"
      },
      "outputs": [],
      "source": []
    },
    {
      "cell_type": "code",
      "execution_count": null,
      "id": "aae70230-d0da-4f6d-9a68-7c1710615998",
      "metadata": {
        "id": "aae70230-d0da-4f6d-9a68-7c1710615998"
      },
      "outputs": [],
      "source": []
    },
    {
      "cell_type": "code",
      "execution_count": null,
      "id": "76dccc13-c0c2-4a41-8eb1-878e0c42cf87",
      "metadata": {
        "id": "76dccc13-c0c2-4a41-8eb1-878e0c42cf87"
      },
      "outputs": [],
      "source": []
    }
  ],
  "metadata": {
    "kernelspec": {
      "display_name": "Python 3 (ipykernel)",
      "language": "python",
      "name": "python3"
    },
    "language_info": {
      "codemirror_mode": {
        "name": "ipython",
        "version": 3
      },
      "file_extension": ".py",
      "mimetype": "text/x-python",
      "name": "python",
      "nbconvert_exporter": "python",
      "pygments_lexer": "ipython3",
      "version": "3.12.6"
    },
    "colab": {
      "provenance": [],
      "include_colab_link": true
    }
  },
  "nbformat": 4,
  "nbformat_minor": 5
}