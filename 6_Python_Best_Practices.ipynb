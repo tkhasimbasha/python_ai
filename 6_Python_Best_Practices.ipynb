{
  "cells": [
    {
      "cell_type": "markdown",
      "metadata": {
        "id": "view-in-github",
        "colab_type": "text"
      },
      "source": [
        "<a href=\"https://colab.research.google.com/github/tkhasimbasha/python_ai/blob/master/6_Python_Best_Practices.ipynb\" target=\"_parent\"><img src=\"https://colab.research.google.com/assets/colab-badge.svg\" alt=\"Open In Colab\"/></a>"
      ]
    },
    {
      "cell_type": "markdown",
      "id": "5bea787f",
      "metadata": {
        "id": "5bea787f"
      },
      "source": [
        "# Python Coding Best Practices\n",
        "\n",
        "In this notebook, we’ll cover Python coding best practices to improve code readability, maintainability, and efficiency. By following these guidelines, you'll write cleaner, more Pythonic, and AI-development-friendly code.\n",
        "\n",
        "## Topics Covered\n",
        "- Clean Code in Python\n",
        "- Effective Use of Comments\n",
        "- Pythonic Guidelines for AI Development\n",
        "- PEP 8 and PEP 257 Style Guidelines\n"
      ]
    },
    {
      "cell_type": "markdown",
      "id": "e78f4a2a",
      "metadata": {
        "id": "e78f4a2a"
      },
      "source": [
        "## 1. Clean Code in Python\n",
        "\n",
        "Writing clean code means writing code that is easy to read, understand, and modify. This is especially crucial in collaborative environments where multiple people interact with the codebase."
      ]
    },
    {
      "cell_type": "markdown",
      "id": "e00da76c",
      "metadata": {
        "id": "e00da76c"
      },
      "source": [
        "### Example 1: Use Meaningful Variable and Function Names\n",
        "\n",
        "- **Bad Code**: Using single-letter variables or unclear names.\n",
        "- **Good Code**: Using descriptive names that explain the variable's purpose.\n"
      ]
    },
    {
      "cell_type": "code",
      "execution_count": null,
      "id": "983b2631",
      "metadata": {
        "id": "983b2631"
      },
      "outputs": [],
      "source": [
        "# Bad Code ❌\n",
        "def calc(a, b):\n",
        "    return a + b\n",
        "\n",
        "result = calc(5, 10)\n",
        "print(result)\n",
        "\n",
        "# Good Code ✅\n",
        "def calculate_sum(first_number, second_number):\n",
        "    return first_number + second_number\n",
        "\n",
        "result = calculate_sum(5, 10)\n",
        "print(result)  # Output is 15\n",
        "\n",
        "# Explanation:\n",
        "# 'calculate_sum' is more descriptive than 'calc', and the parameter names describe their values' roles."
      ]
    },
    {
      "cell_type": "markdown",
      "id": "f8533ab9",
      "metadata": {
        "id": "f8533ab9"
      },
      "source": [
        "### Example 2: Avoid Hard-Coding Values\n",
        "\n",
        "- **Bad Code**: Hard-coded values are directly placed in the code, making it difficult to modify.\n",
        "- **Good Code**: Use variables or constants to store values that might change, improving flexibility.\n"
      ]
    },
    {
      "cell_type": "code",
      "execution_count": null,
      "id": "8baaec1f",
      "metadata": {
        "id": "8baaec1f"
      },
      "outputs": [],
      "source": [
        "# Bad Code ❌\n",
        "def calculate_discount(price):\n",
        "    return price * 0.1  # 0.1 hard-coded as discount rate\n",
        "\n",
        "# Good Code ✅\n",
        "DISCOUNT_RATE = 0.1  # Define discount rate as a constant\n",
        "\n",
        "def calculate_discount(price):\n",
        "    return price * DISCOUNT_RATE\n",
        "\n",
        "# Explanation:\n",
        "# Defining DISCOUNT_RATE as a constant makes it easier to change and improves code readability.\n",
        "calculate_discount(100)  # Output should be 10.0"
      ]
    },
    {
      "cell_type": "code",
      "execution_count": null,
      "id": "90a7244c",
      "metadata": {
        "id": "90a7244c"
      },
      "outputs": [],
      "source": []
    },
    {
      "cell_type": "markdown",
      "id": "9cf92b12",
      "metadata": {
        "id": "9cf92b12"
      },
      "source": [
        "## 2. Effective Use of Comments\n",
        "\n",
        "Comments should clarify the code, not state the obvious. Effective comments explain *why* a certain approach is taken rather than describing the syntax or *how* something is done."
      ]
    },
    {
      "cell_type": "markdown",
      "id": "a4f60dd6",
      "metadata": {
        "id": "a4f60dd6"
      },
      "source": [
        "### Example 1: Avoid Redundant Comments\n",
        "\n",
        "- **Bad Code**: Commenting obvious code lines.\n",
        "- **Good Code**: Using comments to explain non-trivial parts.\n"
      ]
    },
    {
      "cell_type": "code",
      "execution_count": null,
      "id": "bf4345c8",
      "metadata": {
        "id": "bf4345c8"
      },
      "outputs": [],
      "source": [
        "# Bad Code ❌\n",
        "x = 10  # Assign 10 to x\n",
        "y = 20  # Assign 20 to y\n",
        "z = x + y  # Add x and y\n",
        "\n",
        "# Good Code ✅\n",
        "# Set initial values for age calculation in years\n",
        "birth_year = 1995\n",
        "current_year = 2024\n",
        "age = current_year - birth_year  # Calculate age by subtracting birth year from current year\n",
        "\n",
        "# Explanation:\n",
        "# Avoid redundant comments that just repeat the code.\n",
        "# Instead, add comments explaining 'why' the calculation is being done."
      ]
    },
    {
      "cell_type": "markdown",
      "id": "7cc32b23",
      "metadata": {
        "id": "7cc32b23"
      },
      "source": [
        "### Example 2: Use Docstrings for Functions\n",
        "\n",
        "Docstrings provide a summary of a function's purpose and parameters, making it easier to understand its use and functionality."
      ]
    },
    {
      "cell_type": "code",
      "execution_count": 1,
      "id": "74574d6e",
      "metadata": {
        "colab": {
          "base_uri": "https://localhost:8080/"
        },
        "id": "74574d6e",
        "outputId": "813d8ef6-0988-43c8-ff80-d36f684956ac"
      },
      "outputs": [
        {
          "output_type": "stream",
          "name": "stdout",
          "text": [
            "78.53750000000001\n"
          ]
        }
      ],
      "source": [
        "# Good Code ✅\n",
        "def calculate_area(radius):\n",
        "    \"\"\"Calculate the area of a circle given the radius.\"\"\"\n",
        "    return 3.1415 * (radius ** 2)\n",
        "\n",
        "print(calculate_area(5))  # Outputs the area of the circle with radius 5"
      ]
    },
    {
      "cell_type": "code",
      "execution_count": 3,
      "id": "e5e98d76-8e08-4a8b-a38f-421735fd3815",
      "metadata": {
        "colab": {
          "base_uri": "https://localhost:8080/"
        },
        "id": "e5e98d76-8e08-4a8b-a38f-421735fd3815",
        "outputId": "dd106422-ff91-4246-bc2b-fd7eba05fc09"
      },
      "outputs": [
        {
          "output_type": "execute_result",
          "data": {
            "text/plain": [
              "12.566"
            ]
          },
          "metadata": {},
          "execution_count": 3
        }
      ],
      "source": [
        "calculate_area(2)"
      ]
    },
    {
      "cell_type": "markdown",
      "id": "e3a20748",
      "metadata": {
        "id": "e3a20748"
      },
      "source": [
        "## 3. Pythonic Guidelines for AI Development\n",
        "\n",
        "In AI and machine learning, following Pythonic guidelines can help improve code efficiency and readability, particularly for data handling and model development."
      ]
    },
    {
      "cell_type": "markdown",
      "id": "685f14eb",
      "metadata": {
        "id": "685f14eb"
      },
      "source": [
        "### Example 1: Use List Comprehensions Instead of Loops for Data Transformation\n",
        "\n",
        "- **Bad Code**: Using loops where list comprehensions can simplify the code.\n",
        "- **Good Code**: Use list comprehensions for faster, more readable code."
      ]
    },
    {
      "cell_type": "code",
      "execution_count": 6,
      "id": "7711ad83",
      "metadata": {
        "colab": {
          "base_uri": "https://localhost:8080/"
        },
        "id": "7711ad83",
        "outputId": "e7c13e30-a79d-43af-ee7e-f0ae1614b430"
      },
      "outputs": [
        {
          "output_type": "stream",
          "name": "stdout",
          "text": [
            "[1, 9, 25, 49, 81]\n"
          ]
        }
      ],
      "source": [
        "# Bad Code ❌\n",
        "squared_numbers = []\n",
        "for i in range(10):\n",
        "    squared_numbers.append(i ** 2)\n",
        "\n",
        "# Good Code ✅\n",
        "squared_numbers = [i ** 2 for i in range(1,10,2)]\n",
        "\n",
        "# Explanation:\n",
        "# List comprehensions are more Pythonic and efficient for transforming data.\n",
        "print(squared_numbers)"
      ]
    },
    {
      "cell_type": "markdown",
      "id": "c0533ebe",
      "metadata": {
        "id": "c0533ebe"
      },
      "source": [
        "### Example 2: Use `enumerate()` Instead of Counting Indices\n"
      ]
    },
    {
      "cell_type": "code",
      "execution_count": null,
      "id": "304aa858-813c-431a-acf1-0765bddafc5a",
      "metadata": {
        "id": "304aa858-813c-431a-acf1-0765bddafc5a",
        "outputId": "7972a668-e854-4e6d-84a1-d357f64885bc"
      },
      "outputs": [
        {
          "name": "stdout",
          "output_type": "stream",
          "text": [
            "0 a\n",
            "1 b\n",
            "2 c\n"
          ]
        }
      ],
      "source": [
        "# Bad Code ❌\n",
        "data = ['a', 'b', 'c']\n",
        "index = 0\n",
        "for item in data:\n",
        "    print(index, item)\n",
        "    index += 1"
      ]
    },
    {
      "cell_type": "code",
      "execution_count": null,
      "id": "5b2165db-d0d7-467e-8f81-aa93576f985d",
      "metadata": {
        "id": "5b2165db-d0d7-467e-8f81-aa93576f985d",
        "outputId": "6ab713d2-cfc3-4c48-a7df-3356b1016438"
      },
      "outputs": [
        {
          "name": "stdout",
          "output_type": "stream",
          "text": [
            "0 a\n",
            "1 b\n",
            "2 c\n"
          ]
        }
      ],
      "source": [
        "# Good Code ✅\n",
        "for index, item in enumerate(data):\n",
        "    print(index, item)\n",
        "\n",
        "# Explanation:\n",
        "# 'enumerate' provides a cleaner and more Pythonic way to iterate with indices."
      ]
    },
    {
      "cell_type": "markdown",
      "id": "a6583487",
      "metadata": {
        "id": "a6583487"
      },
      "source": [
        "## 4. PEP 8 and PEP 257 Style Guidelines\n",
        "\n",
        "PEP 8 is the style guide for Python code, covering guidelines like indentation, variable naming, and line length. PEP 257 covers conventions for docstrings.\n",
        "\n",
        "Adhering to these guidelines enhances readability and ensures that code style is consistent."
      ]
    },
    {
      "cell_type": "markdown",
      "id": "d9f8b25b",
      "metadata": {
        "id": "d9f8b25b"
      },
      "source": [
        "## Example 1. Variable Naming Conventions"
      ]
    },
    {
      "cell_type": "code",
      "execution_count": null,
      "id": "640b74b6",
      "metadata": {
        "id": "640b74b6"
      },
      "outputs": [],
      "source": [
        "# Bad Code: Uses single-letter variables or unclear names. ❌\n",
        "x = 10\n",
        "y = 20\n",
        "z = x*y\n",
        "\n",
        "# Good Code: Use descriptive variable names in snake_case. ✅\n",
        "\n",
        "width = 10\n",
        "height = 20\n",
        "area = width * height"
      ]
    },
    {
      "cell_type": "code",
      "execution_count": null,
      "id": "980962e5",
      "metadata": {
        "id": "980962e5"
      },
      "outputs": [],
      "source": []
    },
    {
      "cell_type": "markdown",
      "id": "531e72f9",
      "metadata": {
        "id": "531e72f9"
      },
      "source": [
        "## Example 2: Function Naming Conventions"
      ]
    },
    {
      "cell_type": "code",
      "execution_count": null,
      "id": "ef059e7c",
      "metadata": {
        "id": "ef059e7c"
      },
      "outputs": [],
      "source": [
        "# Bad Code: Uses camelCase or unclear function names. ❌\n",
        "def CalculateArea():\n",
        "    pass\n",
        "\n",
        "def calc():\n",
        "    pass\n",
        "\n",
        "# Good Code: Use descriptive function names in snake_case.✅\n",
        "def calculate_area():\n",
        "    pass\n",
        "\n",
        "def calculate_total_price():\n",
        "    pass"
      ]
    },
    {
      "cell_type": "code",
      "execution_count": null,
      "id": "b4750cf7",
      "metadata": {
        "id": "b4750cf7"
      },
      "outputs": [],
      "source": []
    },
    {
      "cell_type": "markdown",
      "id": "68361a42",
      "metadata": {
        "id": "68361a42"
      },
      "source": [
        "## Example 3. Constant Naming Conventions\n",
        "Constants should be defined in UPPERCASE letters, typically at the top of the module."
      ]
    },
    {
      "cell_type": "code",
      "execution_count": null,
      "id": "683dec09",
      "metadata": {
        "id": "683dec09"
      },
      "outputs": [],
      "source": [
        "# Bad Code: Uses lowercase or unclear naming. ❌\n",
        "pi_value = 3.1415\n",
        "discountRate = 0.1\n",
        "\n",
        "# Good Code: Use UPPERCASE letters with underscores for constants. ✅\n",
        "PI = 3.1415\n",
        "DISCOUNT_RATE = 0.1\n"
      ]
    },
    {
      "cell_type": "markdown",
      "id": "14c45302",
      "metadata": {
        "id": "14c45302"
      },
      "source": [
        "# Example 4. Class Naming Conventions\n",
        "Class names should follow the CamelCase convention."
      ]
    },
    {
      "cell_type": "code",
      "execution_count": null,
      "id": "f195819b",
      "metadata": {
        "id": "f195819b"
      },
      "outputs": [],
      "source": [
        "# Bad Code: Uses snake_case or all lowercase. ❌\n",
        "class person_details:\n",
        "    pass\n",
        "\n",
        "class product_inventory:\n",
        "    pass\n",
        "\n",
        "# Good Code: Use CamelCase for class names.✅\n",
        "class PersonDetails:\n",
        "    pass\n",
        "\n",
        "class ProductInventory:\n",
        "    pass"
      ]
    },
    {
      "cell_type": "markdown",
      "id": "0266a560",
      "metadata": {
        "id": "0266a560"
      },
      "source": [
        "## Example 5. Spacing Around Operators\n",
        "Add single spaces around operators for better readability."
      ]
    },
    {
      "cell_type": "code",
      "execution_count": null,
      "id": "26c7fcf4",
      "metadata": {
        "id": "26c7fcf4"
      },
      "outputs": [],
      "source": [
        "# Bad Code: No spaces around operators. ❌\n",
        "result=5+2*3\n",
        "\n",
        "# Good Code: Add spaces around operators.✅\n",
        "result = 5 + 2 * 3"
      ]
    },
    {
      "cell_type": "markdown",
      "id": "6cc5d7a2",
      "metadata": {
        "id": "6cc5d7a2"
      },
      "source": [
        "## Example 6. Indentation and Line Length\n",
        "PEP 8 recommends 4 spaces per indentation level and a maximum line length of 79 characters."
      ]
    },
    {
      "cell_type": "code",
      "execution_count": null,
      "id": "c9d332c5",
      "metadata": {
        "id": "c9d332c5"
      },
      "outputs": [],
      "source": [
        "# Bad Code: Uses inconsistent indentation and lines that exceed 79 characters.❌\n",
        "def calculate_area(width, height):\n",
        "   if width > 0 and height > 0:\n",
        "      area = width * height\n",
        "        return area\n",
        "\n",
        "# Good Code: Uses consistent 4-space indentation and limits line length.✅\n",
        "def calculate_area(width, height):\n",
        "    if width > 0 and height > 0:\n",
        "        area = width * height\n",
        "        return area"
      ]
    },
    {
      "cell_type": "markdown",
      "id": "0cc0300d",
      "metadata": {
        "id": "0cc0300d"
      },
      "source": [
        "## Example 7. Blank Lines Between Functions and Classes\n",
        "Separate top-level functions and class definitions with two blank lines."
      ]
    },
    {
      "cell_type": "code",
      "execution_count": null,
      "id": "c7dd35f7",
      "metadata": {
        "id": "c7dd35f7"
      },
      "outputs": [],
      "source": [
        "# Bad Code: No blank lines between class and function definitions.❌\n",
        "class Circle:\n",
        "    pass\n",
        "def calculate_circumference(radius):\n",
        "    pass\n",
        "\n",
        "\n",
        "# Good Code: Adds two blank lines between definitions.✅\n",
        "class Circle:\n",
        "    pass\n",
        "\n",
        "\n",
        "def calculate_circumference(radius):\n",
        "    pass"
      ]
    },
    {
      "cell_type": "markdown",
      "id": "6c3ab293",
      "metadata": {
        "id": "6c3ab293"
      },
      "source": [
        "## Example 8: Consistent Naming Conventions\n",
        "\n",
        "- **Bad Code**: Using inconsistent naming styles.\n",
        "- **Good Code**: Following snake_case for variables and functions, CamelCase for classes."
      ]
    },
    {
      "cell_type": "code",
      "execution_count": null,
      "id": "6aa6e366",
      "metadata": {
        "id": "6aa6e366"
      },
      "outputs": [],
      "source": [
        "# Bad Code ❌\n",
        "class machineLearningModel:\n",
        "    def TrainModel(self):\n",
        "        pass\n",
        "\n",
        "# Good Code ✅\n",
        "class MachineLearningModel:\n",
        "    def train_model(self):\n",
        "        pass\n",
        "\n",
        "# Explanation:\n",
        "# Class names use CamelCase (MachineLearningModel), while function names use snake_case (train_model).\n",
        "# This adheres to PEP 8 naming conventions."
      ]
    },
    {
      "cell_type": "markdown",
      "id": "fce8493e",
      "metadata": {
        "id": "fce8493e"
      },
      "source": [
        "## Example 9. Use is and is not for Comparing to None\n",
        "Use is or is not for comparisons to None, not ==."
      ]
    },
    {
      "cell_type": "code",
      "execution_count": null,
      "id": "bd839d3a",
      "metadata": {
        "id": "bd839d3a"
      },
      "outputs": [],
      "source": [
        "# Bad Code:❌\n",
        "variable= 10\n",
        "if variable == None:\n",
        "    pass\n",
        "\n",
        "# Good Code ✅\n",
        "if variable is None:\n",
        "    pass\n"
      ]
    },
    {
      "cell_type": "markdown",
      "id": "57eb2519",
      "metadata": {
        "id": "57eb2519"
      },
      "source": [
        "## Example 10: Avoid Importing Unused Modules\n",
        "Import only what is necessary to avoid unused imports."
      ]
    },
    {
      "cell_type": "code",
      "execution_count": null,
      "id": "cba0b9dd-3465-441c-b064-2db16d918eee",
      "metadata": {
        "id": "cba0b9dd-3465-441c-b064-2db16d918eee"
      },
      "outputs": [],
      "source": [
        "# Bad Code:❌\n",
        "import math\n",
        "import os\n",
        "import random\n",
        "\n",
        "def square_root(number):\n",
        "    return number ** 0.5"
      ]
    },
    {
      "cell_type": "code",
      "execution_count": null,
      "id": "59ff09f5-2689-4735-bd2c-13c63559811f",
      "metadata": {
        "id": "59ff09f5-2689-4735-bd2c-13c63559811f"
      },
      "outputs": [],
      "source": [
        "# Good Code: ✅\n",
        "def square_root(number):\n",
        "    return number ** 0.5  # No imports needed if we’re not using them"
      ]
    },
    {
      "cell_type": "markdown",
      "id": "35f54826",
      "metadata": {
        "id": "35f54826"
      },
      "source": [
        "Or, if we need math.sqrt():"
      ]
    },
    {
      "cell_type": "code",
      "execution_count": null,
      "id": "d95186f5",
      "metadata": {
        "id": "d95186f5"
      },
      "outputs": [],
      "source": [
        "# Good Code ✅\n",
        "import math\n",
        "\n",
        "def square_root(number):\n",
        "    return math.sqrt(number)\n"
      ]
    },
    {
      "cell_type": "code",
      "execution_count": null,
      "id": "61366741",
      "metadata": {
        "id": "61366741",
        "outputId": "75c894fd-2db8-4209-836f-1b3f957b82a9"
      },
      "outputs": [
        {
          "data": {
            "text/plain": [
              "5.0"
            ]
          },
          "execution_count": 17,
          "metadata": {},
          "output_type": "execute_result"
        }
      ],
      "source": [
        "square_root(25)"
      ]
    },
    {
      "cell_type": "markdown",
      "id": "ea2cbd01",
      "metadata": {
        "id": "ea2cbd01"
      },
      "source": [
        "# PEP 257 - Using Docstrings\n",
        "\n",
        "Docstrings should describe the purpose of functions, parameters, and return values."
      ]
    },
    {
      "cell_type": "code",
      "execution_count": null,
      "id": "316a5e41",
      "metadata": {
        "id": "316a5e41"
      },
      "outputs": [],
      "source": [
        "def calculate_cylinder_volume(radius, height): #✅\n",
        "    \"\"\"\n",
        "    Calculate the volume of a cylinder given the radius and height.\n",
        "\n",
        "    Args:\n",
        "        radius (float): The radius of the cylinder's base.\n",
        "        height (float): The height of the cylinder.\n",
        "\n",
        "    Returns:\n",
        "        float: The volume of the cylinder.\n",
        "    \"\"\"\n",
        "    pi = 3.1415\n",
        "    volume = pi * (radius ** 2) * height\n",
        "    return volume\n",
        "\n"
      ]
    },
    {
      "cell_type": "code",
      "execution_count": null,
      "id": "d0202ae8",
      "metadata": {
        "id": "d0202ae8",
        "outputId": "99200811-686b-4f94-88f3-cecd4b76d378"
      },
      "outputs": [
        {
          "name": "stdout",
          "output_type": "stream",
          "text": [
            "785.3750000000001\n"
          ]
        }
      ],
      "source": [
        "# Example usage\n",
        "print(calculate_cylinder_volume(5, 10))  # Outputs the volume of the cylinder with radius 5 and height 10"
      ]
    },
    {
      "cell_type": "code",
      "execution_count": 7,
      "id": "6fea6210-35f8-46fb-9a4b-94c04af52f3a",
      "metadata": {
        "id": "6fea6210-35f8-46fb-9a4b-94c04af52f3a"
      },
      "outputs": [],
      "source": [
        "def saying_hello(name):\n",
        "    \"\"\"\n",
        "    Say hello to a person by their name.\n",
        "\n",
        "    Args:\n",
        "        name (str): The name of the person to greet.\n",
        "\n",
        "    Returns:\n",
        "        str: A greeting message.\n",
        "    \"\"\"\n",
        "    return f\"Hello, {name}!\""
      ]
    },
    {
      "cell_type": "code",
      "source": [
        "saying_hello(\"khasim\")"
      ],
      "metadata": {
        "colab": {
          "base_uri": "https://localhost:8080/"
        },
        "id": "WAujGIv7Ajl6",
        "outputId": "bfb7aa2a-24bb-49c9-8005-c674c5d3833a"
      },
      "id": "WAujGIv7Ajl6",
      "execution_count": 8,
      "outputs": [
        {
          "output_type": "execute_result",
          "data": {
            "text/plain": [
              "'Hello, khasim!'"
            ]
          },
          "metadata": {},
          "execution_count": 8
        }
      ]
    },
    {
      "cell_type": "code",
      "source": [
        "saying_hello"
      ],
      "metadata": {
        "id": "zXFN0VVcAleE"
      },
      "id": "zXFN0VVcAleE",
      "execution_count": null,
      "outputs": []
    }
  ],
  "metadata": {
    "kernelspec": {
      "display_name": "Python 3 (ipykernel)",
      "language": "python",
      "name": "python3"
    },
    "language_info": {
      "codemirror_mode": {
        "name": "ipython",
        "version": 3
      },
      "file_extension": ".py",
      "mimetype": "text/x-python",
      "name": "python",
      "nbconvert_exporter": "python",
      "pygments_lexer": "ipython3",
      "version": "3.12.4"
    },
    "colab": {
      "provenance": [],
      "include_colab_link": true
    }
  },
  "nbformat": 4,
  "nbformat_minor": 5
}